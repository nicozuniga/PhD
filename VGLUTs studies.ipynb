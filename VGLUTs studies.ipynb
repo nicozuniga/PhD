{
 "cells": [
  {
   "cell_type": "markdown",
   "id": "6db7121f",
   "metadata": {},
   "source": [
    "# VGLUT studies"
   ]
  },
  {
   "cell_type": "markdown",
   "id": "1234ba47",
   "metadata": {},
   "source": [
    "***"
   ]
  },
  {
   "cell_type": "markdown",
   "id": "f18a9121",
   "metadata": {},
   "source": [
    "## Sequence Alignment"
   ]
  },
  {
   "cell_type": "markdown",
   "id": "abec47b6",
   "metadata": {},
   "source": [
    "After sequence VGLUTs sequences filtering, they where aligned using MUSCLE algorithm (v3.8.1551), using the following command:"
   ]
  },
  {
   "cell_type": "markdown",
   "id": "1748b658",
   "metadata": {},
   "source": [
    "$ muscle -in vglut_seqs_final.fa -out muscle_vglut_seqs_final.fa"
   ]
  },
  {
   "cell_type": "markdown",
   "id": "71fced30",
   "metadata": {},
   "source": [
    "***"
   ]
  },
  {
   "cell_type": "markdown",
   "id": "da00c36a",
   "metadata": {},
   "source": [
    "## Alignment trimming"
   ]
  },
  {
   "cell_type": "markdown",
   "id": "108eff9a",
   "metadata": {},
   "source": [
    "sequence Alignment where trimmed using Gblocks (v.X.X.X), using the following command:"
   ]
  },
  {
   "cell_type": "markdown",
   "id": "7e5c66c0",
   "metadata": {},
   "source": [
    "$ ?????"
   ]
  },
  {
   "cell_type": "markdown",
   "id": "77f34b74",
   "metadata": {},
   "source": [
    "***"
   ]
  },
  {
   "cell_type": "markdown",
   "id": "1b41573a",
   "metadata": {},
   "source": [
    "# Sustitution Model identification"
   ]
  },
  {
   "cell_type": "markdown",
   "id": "718b9770",
   "metadata": {},
   "source": [
    "To determine the correct sustitution model for VGLUT analysis, I use prottest v3.4.2 using the followinf command:"
   ]
  },
  {
   "cell_type": "markdown",
   "id": "3004d78d",
   "metadata": {},
   "source": [
    "$ java -jar /home/nicozuniga/Software/prottest-3.4.2/prottest-3.4.2.jar -i gblocks_vglut_seqs_final.fa -all-distributions -F -AIC -BIC -AICC -tc 0.5"
   ]
  },
  {
   "cell_type": "markdown",
   "id": "b0b2d539",
   "metadata": {},
   "source": [
    "***************************************************************************\n",
    "Best model according to AIC: LG+G+F\n",
    "Confidence Interval: 100.0\n",
    "***************************************************************************\n",
    "\n",
    "***************************************************************************\n",
    "Best model according to BIC: LG+G+F\n",
    "Confidence Interval: 100.0\n",
    "***************************************************************************\n",
    "\n",
    "***************************************************************************\n",
    "Best model according to AICc: LG+G+F\n",
    "Confidence Interval: 100.0\n",
    "***************************************************************************"
   ]
  },
  {
   "cell_type": "markdown",
   "id": "dea7b86c",
   "metadata": {},
   "source": [
    "By this information, The model that have to be used in the phylogenetic analysis is **LG+G+F**"
   ]
  },
  {
   "cell_type": "markdown",
   "id": "1a8ddfd7",
   "metadata": {},
   "source": [
    "***"
   ]
  },
  {
   "cell_type": "code",
   "execution_count": null,
   "id": "42957c73",
   "metadata": {},
   "outputs": [],
   "source": []
  }
 ],
 "metadata": {
  "kernelspec": {
   "display_name": "Python 3",
   "language": "python",
   "name": "python3"
  },
  "language_info": {
   "codemirror_mode": {
    "name": "ipython",
    "version": 3
   },
   "file_extension": ".py",
   "mimetype": "text/x-python",
   "name": "python",
   "nbconvert_exporter": "python",
   "pygments_lexer": "ipython3",
   "version": "3.8.8"
  }
 },
 "nbformat": 4,
 "nbformat_minor": 5
}
