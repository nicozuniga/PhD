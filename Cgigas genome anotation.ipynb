{
 "cells": [
  {
   "cell_type": "markdown",
   "id": "9291e166",
   "metadata": {},
   "source": [
    "# C. gigas genome anotation"
   ]
  },
  {
   "cell_type": "markdown",
   "id": "1aa42781",
   "metadata": {},
   "source": [
    "for C.gigas genome anotation (https://doi.org/10.5524/100875) I use UCSC conda tools **bedToGenePred** and **genePredToGtf**"
   ]
  },
  {
   "cell_type": "markdown",
   "id": "90804877",
   "metadata": {},
   "source": [
    "Command used:"
   ]
  },
  {
   "cell_type": "markdown",
   "id": "c20bfcae",
   "metadata": {},
   "source": [
    "$ bedToGenePred cgigas_gene_annotation.bed /dev/stdout | genePredToGtf file /dev/stdin Cgigas.v2.gtf"
   ]
  },
  {
   "cell_type": "markdown",
   "id": "20bf2372",
   "metadata": {},
   "source": [
    "This command create a temporal gene prediction and convert it in GTF format"
   ]
  },
  {
   "cell_type": "markdown",
   "id": "70bc4d67",
   "metadata": {},
   "source": [
    "***"
   ]
  },
  {
   "cell_type": "markdown",
   "id": "238a284d",
   "metadata": {},
   "source": [
    "Then, I performed a GTF validation using EVAL (DOI: 10.1186/1471-2105-4-50), output was:"
   ]
  },
  {
   "cell_type": "markdown",
   "id": "8a83db2f",
   "metadata": {},
   "source": [
    "$ perl validate_gtf.pl -f -t output.txt ../Cgigas.v2.gtf ../cgigas_uk_roslin_v1.fa"
   ]
  },
  {
   "cell_type": "raw",
   "id": "516de17b",
   "metadata": {},
   "source": [
    "Incorrect value for <feature> field, \"transcript\", on line 1.\n",
    "Bad separator, \"  \", between <attributes> name-value pairs on line 1.  Should be \" \".\n",
    "transcript_id G1.1\n",
    "Incorrect value for <feature> field, \"transcript\", on line 9.\n",
    "Bad separator, \"  \", between <attributes> name-value pairs on line 9.  Should be \" \".\n",
    "transcript_id G1.2\n",
    "Incorrect value for <feature> field, \"transcript\", on line 17.\n",
    "Bad separator, \"  \", between <attributes> name-value pairs on line 17.  Should be \" \".\n",
    "transcript_id G2.1\n",
    "Incorrect value for <feature> field, \"transcript\", on line 26.\n",
    "Bad separator, \"  \", between <attributes> name-value pairs on line 26.  Should be \" \".\n",
    "transcript_id G2.2\n",
    "Incorrect value for <feature> field, \"transcript\", on line 35.\n",
    "Bad separator, \"  \", between <attributes> name-value pairs on line 35.  Should be \" \".\n",
    "transcript_id G3.2\n",
    "Missing stop_codon for transcript \"G1.1\".\n",
    "Missing stop_codon for transcript \"G1.2\".\n",
    "Overlapping CDS or UTR features in transcript \"G2.2\".\n",
    "Overlapping CDS or UTR features in transcript \"G3.2\".\n",
    "Missing stop_codon for transcript \"G3.1\".\n",
    "Overlapping CDS or UTR features in transcript \"G4.1\".\n",
    "Overlapping CDS or UTR features in transcript \"G5.1\".\n",
    "Overlapping CDS or UTR features in transcript \"G6.1\".\n",
    "Missing stop_codon for transcript \"G7.1\".\n",
    "Missing stop_codon for transcript \"G16.1\".\n",
    "Stop codon location not consistent with terminal exon locaiton in transcript_id = \"G748.27\".\n",
    "Stop codon location not consistent with terminal exon locaiton in transcript_id = \"G1176.17\".\n",
    "Stop codon location not consistent with terminal exon locaiton in transcript_id = \"G1260.3\".\n",
    "Stop codon location not consistent with terminal exon locaiton in transcript_id = \"G1688.2\".\n",
    "Stop codon location not consistent with terminal exon locaiton in transcript_id = \"G1703.3\".\n",
    "Bad donor splice site sequence, AA, on transcript \"G33466.1\".  Should be GT, GC, or AT.\n",
    "Bad donor splice site sequence, TA, on transcript \"G35318.11\".  Should be GT, GC, or AT.\n",
    "Bad donor splice site sequence, TA, on transcript \"G35318.7\".  Should be GT, GC, or AT.\n",
    "Bad donor splice site sequence, TA, on transcript \"G35318.1\".  Should be GT, GC, or AT.\n",
    "Bad donor splice site sequence, TA, on transcript \"G35318.2\".  Should be GT, GC, or AT.\n",
    "Bad acceptor splice site sequence, AT, on transcript \"G33466.1\".  Should be AG or AC.\n",
    "Bad acceptor splice site sequence, AA, on transcript \"G35318.4\".  Should be AG or AC.\n",
    "Bad acceptor splice site sequence, AA, on negative strand transcript \"G35504.1\".  Should be CT or GT.\n",
    "Bad acceptor splice site sequence, AG, on negative strand transcript \"G34558.1\".  Should be CT or GT.\n",
    "Bad acceptor splice site sequence, AC, on negative strand transcript \"G35192.1\".  Should be CT or GT.\n",
    "Possible non-canonical splice site sequence, AT, on transcript \"G35318.11\".\n",
    "Possible non-canonical splice site sequence, AT, on transcript \"G35318.7\".\n",
    "Possible non-canonical splice site sequence, AT, on transcript \"G35318.1\".\n",
    "Possible non-canonical splice site sequence, AT, on transcript \"G35318.2\".\n",
    "Possible non-canonical splice site sequence, AT, on transcript \"G35318.3\".\n",
    "Bad fasta sequence character, >. Should be 'A','C','T','G',or 'N'.\n",
    "Bad fasta sequence character, L. Should be 'A','C','T','G',or 'N'.\n",
    "Bad fasta sequence character, 2. Should be 'A','C','T','G',or 'N'.\n",
    "Bad fasta sequence character, ;. Should be 'A','C','T','G',or 'N'.\n",
    "Bad fasta sequence character, S. Should be 'A','C','T','G',or 'N'.\n",
    "Bad start codon sequence, TTC, on tx G1.1.  Should be ATG.\n",
    "In frame stop codon(s) found on transcript G1.1\n",
    "Bad start codon sequence, TCA, on tx G1.2.  Should be ATG.\n",
    "In frame stop codon(s) found on transcript G1.2\n",
    "Bad start codon sequence, CCA, on tx G2.1.  Should be ATG.\n",
    "Bad stop codon sequence, AAC, on tx G2.1.  Should be TAA, TAG, or TGA.\n",
    "In frame stop codon(s) found on transcript G2.1\n",
    "Bad start codon sequence, ATC, on tx G2.2.  Should be ATG.\n",
    "Bad stop codon sequence, ATG, on tx G2.2.  Should be TAA, TAG, or TGA.\n",
    "In frame stop codon(s) found on transcript G2.2\n",
    "Bad start codon sequence, TCT, on tx G3.2.  Should be ATG.\n",
    "Bad stop codon sequence, TAT, on tx G3.2.  Should be TAA, TAG, or TGA.\n",
    "In frame stop codon(s) found on transcript G3.2\n",
    "Bad stop codon sequence, AAG, on tx G4.1.  Should be TAA, TAG, or TGA.\n",
    "Bad stop codon sequence, GGT, on tx G5.1.  Should be TAA, TAG, or TGA.\n",
    "\n",
    "Warnings encountered:\n",
    "Count\tDescription\n",
    "125269\tIllegal value for <feature> field.  Should be 'CDS', 'exon', 'start_codon', or 'stop_codon'.\n",
    "125269\tIncorrect separator between attribute name-value pairs in <attributes> field.  Should be ' '.\n",
    "13991\tTranscript has no stop codon.\n",
    "114660\tBad start codon sequence.  Should be ATG.\n",
    "94334\tBad stop codon sequence.  Should be TAA, TAG, or TGA.\n",
    "627397\tBad acceptor splice site sequence.\n",
    "571233\tBad donor splice site sequence.\n",
    "114108\tIn frame stop codon in transcript.\n",
    "125\tStop codon location inconsistent with terminal exon location.\n",
    "6158\tBad fasta sequence character. Should be 'A','C','T','G',or 'N'.\n",
    "98792\tOverlapping CDS features in transcript.\n",
    "131008\tPossible non-canonical splice site sequence.\n",
    "\n",
    "Statistics:\n",
    "\t125269 genes with 125269 transcripts containing 714376 cds.\n",
    "Bad Genes:"
   ]
  },
  {
   "cell_type": "markdown",
   "id": "e4feef74",
   "metadata": {},
   "source": [
    "The Statistics doesn't agree with the paper, that said that  the genome contain  30,724 genes. So, another GTF or GFF3 converter tool must be used."
   ]
  },
  {
   "cell_type": "markdown",
   "id": "22edcff8",
   "metadata": {},
   "source": [
    "## Sept 22, 2021"
   ]
  },
  {
   "cell_type": "markdown",
   "id": "60b3e200",
   "metadata": {},
   "source": [
    "Update: I tried  using Galaxy as a online resourse to converted Bed to GFF. I succesfully transformed the file using the tool \"BED-to-GFF converter\". "
   ]
  },
  {
   "cell_type": "markdown",
   "id": "e8797d43",
   "metadata": {},
   "source": [
    "now, I have to find a tool that convert the gff format to gtf, and I will be done with this transforming process and continue to the next step: RNAseq data trimming and processing"
   ]
  },
  {
   "cell_type": "markdown",
   "id": "8be5b6f6",
   "metadata": {},
   "source": [
    "A thorough description of Galaxy tools and how to use them will be displayed here soon."
   ]
  },
  {
   "cell_type": "code",
   "execution_count": null,
   "id": "e828cbf3",
   "metadata": {},
   "outputs": [],
   "source": []
  }
 ],
 "metadata": {
  "kernelspec": {
   "display_name": "Python 3",
   "language": "python",
   "name": "python3"
  },
  "language_info": {
   "codemirror_mode": {
    "name": "ipython",
    "version": 3
   },
   "file_extension": ".py",
   "mimetype": "text/x-python",
   "name": "python",
   "nbconvert_exporter": "python",
   "pygments_lexer": "ipython3",
   "version": "3.8.8"
  }
 },
 "nbformat": 4,
 "nbformat_minor": 5
}
